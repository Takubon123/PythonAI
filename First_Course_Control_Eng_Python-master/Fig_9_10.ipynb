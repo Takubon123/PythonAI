{
 "cells": [
  {
   "cell_type": "code",
   "execution_count": 9,
   "metadata": {},
   "outputs": [],
   "source": [
    "#計算とグラフプロットに必要なモジュールの読み込み\n",
    "import numpy as np\n",
    "from control import matlab\n",
    "from matplotlib import pyplot as plt\n",
    "from scipy import arange "
   ]
  },
  {
   "cell_type": "code",
   "execution_count": 10,
   "metadata": {},
   "outputs": [],
   "source": [
    "#伝達関数の分子・分母多項式を与える\n",
    "a = 1.0\n",
    "b = 1.0\n",
    "num = [ 0, b ] #分子多項式\n",
    "den = [ 1, a ] #分母多項式\n",
    "\n",
    "#比例ゲインKp\n",
    "Kp = 1.0"
   ]
  },
  {
   "cell_type": "code",
   "execution_count": 21,
   "metadata": {},
   "outputs": [
    {
     "name": "stderr",
     "output_type": "stream",
     "text": [
      "/Users/kaz/.pyenv/versions/anaconda3-4.3.1/lib/python3.6/site-packages/ipykernel_launcher.py:4: RuntimeWarning: invalid value encountered in sqrt\n",
      "  after removing the cwd from sys.path.\n",
      "/Users/kaz/.pyenv/versions/anaconda3-4.3.1/lib/python3.6/site-packages/ipykernel_launcher.py:5: RuntimeWarning: invalid value encountered in sqrt\n",
      "  \"\"\"\n"
     ]
    },
    {
     "data": {
      "image/png": "[encoded data removed]",
      "text/plain": [
       "<matplotlib.figure.Figure at 0x1c1ca292b0>"
      ]
     },
     "metadata": {},
     "output_type": "display_data"
    }
   ],
   "source": [
    "#図9.8のプロット\n",
    "Ki = arange(0,10,0.01) #積分ゲインKiは0から0.01刻みで10まで変化させる\n",
    "#制御系の極p(Kp,Ki)．(9.25)式\n",
    "p1 = (-(a+b*Kp)+((a+b*Kp)**2 - 4.0*b*Ki)**0.5)/2.0\n",
    "p2 = (-(a+b*Kp)-((a+b*Kp)**2 - 4.0*b*Ki)**0.5)/2.0\n",
    "plt.plot(p1, np.zeros(len(p1))) #根軌跡をプロット\n",
    "plt.plot(p2, np.zeros(len(p2))) #根軌跡をプロット\n",
    "plt.xlim([-10,2]) #横軸（時間軸の範囲の指定）\n",
    "plt.grid(color='gray') #罫線を灰色で表示"
   ]
  }
 ],
 "metadata": {
  "kernelspec": {
   "display_name": "Python 3",
   "language": "python",
   "name": "python3"
  },
  "language_info": {
   "codemirror_mode": {
    "name": "ipython",
    "version": 3
   },
   "file_extension": ".py",
   "mimetype": "text/x-python",
   "name": "python",
   "nbconvert_exporter": "python",
   "pygments_lexer": "ipython3",
   "version": "3.6.4"
  }
 },
 "nbformat": 4,
 "nbformat_minor": 2
}
