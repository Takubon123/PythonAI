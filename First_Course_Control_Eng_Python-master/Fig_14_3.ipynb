{
 "cells": [
  {
   "cell_type": "markdown",
   "metadata": {},
   "source": [
    "図14.3のプロット"
   ]
  },
  {
   "cell_type": "code",
   "execution_count": 1,
   "metadata": {},
   "outputs": [],
   "source": [
    "#計算とグラフプロットに必要なモジュールの読み込み\n",
    "import numpy as np\n",
    "from control import matlab\n",
    "from matplotlib import pyplot as plt\n",
    "from scipy import arange \n",
    "from scipy import signal"
   ]
  },
  {
   "cell_type": "code",
   "execution_count": 2,
   "metadata": {},
   "outputs": [],
   "source": [
    "#制御対象の分子・分母多項式を与える\n",
    "num = [0, 1] #分子多項式\n",
    "den1 = [1, 1] #P_{1}(s)の分母多項式\n",
    "den2 = [1, 0] #P_{2}(s)の分母多項式\n",
    "\n",
    "#コントローラの分子・分母多項式を与える．\n",
    "numc = [10]; #C=10の場合の分子多項式\n",
    "denc = [1]; #分母多項式\n",
    "\n",
    "#制御対象とコントローラの伝達関数表現を与える\n",
    "sys1 = matlab.tf( num, den1 ); #P_1(s)の伝達関数表現\n",
    "sys2 = matlab.tf( num, den2 ); #P_2(s)の伝達関数表現\n",
    "c = matlab.tf( numc, denc); #コントローラの伝達関数表現\n",
    "\n",
    "#開ループ伝達関数を求める\n",
    "sysL1 = c*sys1; #P_1(s)の場合の開ループ伝達関数\n",
    "sysL2 = c*sys2; #P_2(s)の場合の開ループ伝達関数\n",
    "\n",
    "#閉ループ伝達関数を求める\n",
    "sysC1 = matlab.feedback( sysL1, 1 ); #P_1(s)の場合の閉ループ伝達関数\n",
    "sysC2 = matlab.feedback( sysL2, 1 ); #P_2(s)の場合の閉ループ伝達関数"
   ]
  },
  {
   "cell_type": "code",
   "execution_count": 3,
   "metadata": {
    "scrolled": true
   },
   "outputs": [
    {
     "data": {
      "image/png": "[encoded data removed]",
      "text/plain": [
       "<matplotlib.figure.Figure at 0x106799c18>"
      ]
     },
     "metadata": {},
     "output_type": "display_data"
    }
   ],
   "source": [
    "#図14.3\n",
    "\n",
    "#開ループ伝達関数の処理\n",
    "[numL11, denL11] = matlab.tfdata(sysL1) #開ループ伝達関数L_1(s)の分子・分母多項式を抜き出す\n",
    "numL1 = numL11[0][0] #分子多項式におけるPythonの配列の処理\n",
    "denL1 = denL11[0][0] #分母多項式におけるPythonの配列の処理\n",
    "\n",
    "[numL22, denL22] = matlab.tfdata(sysL2) #開ループ伝達関数L_2(s)の分子・分母多項式を抜き出す\n",
    "numL2 = numL22[0][0] #分子多項式におけるPythonの配列の処理\n",
    "denL2 = denL22[0][0] #分母多項式におけるPythonの配列の処理\n",
    "\n",
    "#開ループ伝達関数を与える\n",
    "sysLG1 = signal.lti(numL1, denL1) #L_1(s)の場合の伝達関数表現（signal.ltiの場合）\n",
    "sysLG2 = signal.lti(numL2, denL2) #L_2(s)の場合の伝達関数表現（signal.ltiの場合）\n",
    "\n",
    "#角周波数の範囲を指定\n",
    "w = np.logspace(-1, 2, 1000)#対数的に等間隔なベクトルの生成(10^{-1}から10^{2}で1000点)\n",
    "\n",
    "#開ループ伝達関数のゲインと位相の計算\n",
    "\n",
    "#図14.3(a)\n",
    "\n",
    "#ゲインと位相の計算\n",
    "wL1, magL1, phaseL1 = signal.bode(sysLG1, w) #ゲインと位相\n",
    "\n",
    "#図14.3(a)のプロット\n",
    "plt.subplot(2, 2, 1) #複数の図を並べるためのコマンド．2行2列の1行1列目という意味\n",
    "plt.semilogx(wL1, magL1) #ゲイン線図をプロット\n",
    "plt.xlim([0.1,100]) #横軸（角周波数）の範囲の指定\n",
    "plt.ylim([-30,40]) #縦軸の範囲の指定\n",
    "plt.yticks([-20,0,20,40]) #縦軸の目盛りの値の設定\n",
    "plt.grid(color='gray') #罫線を灰色で表示\n",
    "#plt.xlabel(\"w[rad/s]\") #横軸のラベル表示\n",
    "plt.ylabel(\"Gain[dB]\") #縦軸のラベル表示\n",
    "plt.title(\"G = 1/(s+1)\") #タイトルの表示\n",
    "\n",
    "plt.subplot(2, 2, 3) #複数の図を並べるためのコマンド．2行2列の2行1列目という意味\n",
    "plt.semilogx(wL1, phaseL1) #位相線図をプロット\n",
    "plt.xlim([0.1,100]) #横軸（角周波数）の範囲の指定\n",
    "plt.ylim([-180,0]) #縦軸の範囲の指定\n",
    "plt.yticks([-180,-135,-90,-45,0]) #縦軸の目盛りの値の設定\n",
    "plt.grid(color='gray') #罫線を灰色で表示\n",
    "plt.xlabel(\"w[rad/s]\") #横軸のラベル表示\n",
    "plt.ylabel(\"Phase[deg]\") #縦軸のラベル表示\n",
    "\n",
    "#図14.3(b)\n",
    "\n",
    "#ゲインと位相の計算\n",
    "wL2, magL2, phaseL2 = signal.bode(sysLG2, w) #ゲインと位相\n",
    "\n",
    "#図14.3(b)のプロット\n",
    "plt.subplot(2, 2, 2) #複数の図を並べるためのコマンド．2行2列の1行2列目という意味\n",
    "plt.semilogx(wL2, magL2) #ゲイン線図をプロット\n",
    "plt.xlim([0.1,100]) #横軸（角周波数）の範囲の指定\n",
    "plt.ylim([-30,40]) #縦軸の範囲の指定\n",
    "plt.yticks([-20,0,20,40]) #縦軸の目盛りの値の設定\n",
    "plt.grid(color='gray') #罫線を灰色で表示\n",
    "#plt.xlabel(\"w[rad/s]\") #横軸のラベル表示\n",
    "#plt.ylabel(\"Gain[dB]\") #縦軸のラベル表示\n",
    "plt.title(\"G = 1/s\") #タイトルの表示\n",
    "\n",
    "plt.subplot(2, 2, 4) #複数の図を並べるためのコマンド．2行2列の2行2列目という意味\n",
    "plt.semilogx(wL2, phaseL2) #ゲイン線図をプロット\n",
    "plt.xlim([0.1,100]) #横軸（角周波数）の範囲の指定\n",
    "plt.ylim([-180,0]) #縦軸の範囲の指定\n",
    "plt.yticks([-180,-135,-90,-45,0]) #縦軸の目盛りの値の設定\n",
    "plt.grid(color='gray') #罫線を灰色で表示\n",
    "plt.xlabel(\"w[rad/s]\") #横軸のラベル表示\n",
    "#plt.ylabel(\"Phase[deg]\") #縦軸のラベル表示\n",
    "\n",
    "plt.show() #グラフの表示"
   ]
  },
  {
   "cell_type": "code",
   "execution_count": 4,
   "metadata": {},
   "outputs": [
    {
     "data": {
      "image/png": "[encoded data removed]",
      "text/plain": [
       "<matplotlib.figure.Figure at 0x1c10075978>"
      ]
     },
     "metadata": {},
     "output_type": "display_data"
    }
   ],
   "source": [
    "#図14.3(c), (d)の描画\n",
    "\n",
    "#時間変数の定義\n",
    "t = arange(0, 10, 0.01) #0から10まで0.01刻み\n",
    "\n",
    "#各コントローラに対応したステップ応答を求める\n",
    "y1, t1 = matlab.step(sysC1, t) #ステップ応答\n",
    "y2, t2 = matlab.step(sysC2, t) #ステップ応答\n",
    "\n",
    "#図14.3(c)のプロット\n",
    "plt.subplot(1,2,1) #複数の図を並べるためのコマンド．1行2列の1列目という意味\n",
    "plt.plot(t1, y1) #ステップ応答をプロット\n",
    "plt.xlim([0,5]) #横軸（時間軸）の範囲の指定\n",
    "plt.ylim([0.0,1.2]) #縦軸の範囲の指定\n",
    "plt.xticks([0, 1, 2, 3, 4, 5]) #横軸の目盛りの値の設定\n",
    "plt.yticks([0.0, 0.5, 1.0]) #横軸の目盛りの値の設定\n",
    "plt.grid(color='gray') #罫線を灰色で表示\n",
    "plt.xlabel(\"time   t[s]\") #横軸のラベル表示\n",
    "plt.ylabel(\"y(t)\") #縦軸のラベル表示\n",
    "plt.title(\"P_{1}(s), C(s)\") #タイトルの表示\n",
    "\n",
    "#図14.3(d)のプロット\n",
    "plt.subplot(1,2,2) #複数の図を並べるためのコマンド．1行2列の2列目という意味\n",
    "plt.plot(t2, y2) #ステップ応答をプロット\n",
    "plt.xlim([0,5]) #横軸（時間軸）の範囲の指定\n",
    "plt.ylim([0.0, 1.2]) #縦軸の範囲の指定\n",
    "plt.xticks([0, 1, 2, 3, 4, 5]) #横軸の目盛りの値の設定\n",
    "plt.yticks([0.0, 0.5, 1.0]) #横軸の目盛りの値の設定\n",
    "plt.grid(color='gray') #罫線を灰色で表示\n",
    "plt.xlabel(\"time   t[s]\") #横軸のラベル表示\n",
    "#plt.ylabel(\"y(t)\") #縦軸のラベル表示\n",
    "plt.title(\"P_{2}(s), C(s)\") #タイトルの表示\n",
    "\n",
    "plt.show() #グラフの表示"
   ]
  }
 ],
 "metadata": {
  "kernelspec": {
   "display_name": "Python 3",
   "language": "python",
   "name": "python3"
  },
  "language_info": {
   "codemirror_mode": {
    "name": "ipython",
    "version": 3
   },
   "file_extension": ".py",
   "mimetype": "text/x-python",
   "name": "python",
   "nbconvert_exporter": "python",
   "pygments_lexer": "ipython3",
   "version": "3.6.4"
  }
 },
 "nbformat": 4,
 "nbformat_minor": 2
}
