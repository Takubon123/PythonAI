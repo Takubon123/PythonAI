{
 "cells": [
  {
   "cell_type": "code",
   "execution_count": 5,
   "metadata": {},
   "outputs": [],
   "source": [
    "#計算とグラフプロットに必要なモジュールの読み込み\n",
    "import numpy as np\n",
    "from control import matlab\n",
    "from matplotlib import pyplot as plt\n",
    "from scipy import arange "
   ]
  },
  {
   "cell_type": "code",
   "execution_count": 6,
   "metadata": {},
   "outputs": [],
   "source": [
    "#伝達関数の分子・分母多項式を与える\n",
    "a = -1.0\n",
    "b = 1.0\n",
    "num = [ 0, b ] #分子多項式\n",
    "den = [ 1, a ] #分母多項式"
   ]
  },
  {
   "cell_type": "code",
   "execution_count": 12,
   "metadata": {},
   "outputs": [
    {
     "data": {
      "image/png": "[encoded data removed]",
      "text/plain": [
       "<matplotlib.figure.Figure at 0x10e90dac8>"
      ]
     },
     "metadata": {},
     "output_type": "display_data"
    }
   ],
   "source": [
    "#図9.8のプロット\n",
    "Kp = arange(0,10,0.01) #比例ゲインKpは0から0.01刻みで10まで変化させる\n",
    "#制御系の極p(Kp)．(9.24)式\n",
    "p = - (a + b * Kp)\n",
    "plt.plot(p, np.zeros(len(p))) #根軌跡をプロット\n",
    "plt.xlim([-10,2]) #横軸（時間軸の範囲の指定）\n",
    "plt.grid(color='gray') #罫線を灰色で表示"
   ]
  }
 ],
 "metadata": {
  "kernelspec": {
   "display_name": "Python 3",
   "language": "python",
   "name": "python3"
  },
  "language_info": {
   "codemirror_mode": {
    "name": "ipython",
    "version": 3
   },
   "file_extension": ".py",
   "mimetype": "text/x-python",
   "name": "python",
   "nbconvert_exporter": "python",
   "pygments_lexer": "ipython3",
   "version": "3.6.4"
  }
 },
 "nbformat": 4,
 "nbformat_minor": 2
}
