{
 "cells": [
  {
   "cell_type": "markdown",
   "metadata": {},
   "source": [
    "図11.5のプロット"
   ]
  },
  {
   "cell_type": "code",
   "execution_count": 1,
   "metadata": {},
   "outputs": [],
   "source": [
    "#計算とグラフプロットに必要なモジュールの読み込み\n",
    "import numpy as np\n",
    "from control import matlab\n",
    "from matplotlib import pyplot as plt\n",
    "from scipy import arange \n",
    "from scipy import signal"
   ]
  },
  {
   "cell_type": "code",
   "execution_count": 2,
   "metadata": {
    "scrolled": true
   },
   "outputs": [
    {
     "name": "stderr",
     "output_type": "stream",
     "text": [
      "/Users/kaz/.pyenv/versions/anaconda3-4.3.1/lib/python3.6/site-packages/matplotlib/axes/_base.py:3285: UserWarning: Attempting to set identical bottom==top results\n",
      "in singular transformations; automatically expanding.\n",
      "bottom=1.0, top=1.0\n",
      "  'bottom=%s, top=%s') % (bottom, top))\n",
      "/Users/kaz/.pyenv/versions/anaconda3-4.3.1/lib/python3.6/site-packages/control/freqplot.py:153: MatplotlibDeprecationWarning: pyplot.hold is deprecated.\n",
      "    Future behavior will be consistent with the long-time default:\n",
      "    plot commands add elements without first clearing the\n",
      "    Axes and/or Figure.\n",
      "  plt.hold(True);\n",
      "/Users/kaz/.pyenv/versions/anaconda3-4.3.1/lib/python3.6/site-packages/matplotlib/__init__.py:805: MatplotlibDeprecationWarning: axes.hold is deprecated. Please remove it from your matplotlibrc and/or style files.\n",
      "  mplDeprecation)\n",
      "/Users/kaz/.pyenv/versions/anaconda3-4.3.1/lib/python3.6/site-packages/matplotlib/rcsetup.py:155: MatplotlibDeprecationWarning: axes.hold is deprecated, will be removed in 3.0\n",
      "  mplDeprecation)\n",
      "/Users/kaz/.pyenv/versions/anaconda3-4.3.1/lib/python3.6/site-packages/control/freqplot.py:163: MatplotlibDeprecationWarning: pyplot.hold is deprecated.\n",
      "    Future behavior will be consistent with the long-time default:\n",
      "    plot commands add elements without first clearing the\n",
      "    Axes and/or Figure.\n",
      "  plt.hold(True);\n",
      "/Users/kaz/.pyenv/versions/anaconda3-4.3.1/lib/python3.6/site-packages/matplotlib/cbook/deprecation.py:106: MatplotlibDeprecationWarning: Adding an axes using the same arguments as a previous axes currently reuses the earlier instance.  In a future version, a new instance will always be created and returned.  Meanwhile, this warning can be suppressed, and the future behavior ensured, by passing a unique label to each axes instance.\n",
      "  warnings.warn(message, mplDeprecation, stacklevel=1)\n"
     ]
    },
    {
     "data": {
      "image/png": "[encoded data removed]",
      "text/plain": [
       "<matplotlib.figure.Figure at 0x10e5386d8>"
      ]
     },
     "metadata": {},
     "output_type": "display_data"
    }
   ],
   "source": [
    "#比例要素のパラメータ\n",
    "K1 = 1.0 #K=1\n",
    "K2 = 0.1 #K=0.1\n",
    "K3 = 10.0 #K=10\n",
    "\n",
    "#伝達関数の分子・分母多項式を与える\n",
    "num1 = [K1] #K=1の場合の分子多項式\n",
    "num2 = [K2] #K=0.1の場合の分子多項式\n",
    "num3 = [K3] #K=10の場合の分子多項式\n",
    "den = [1] #分母多項式\n",
    "\n",
    "#伝達関数表現を与える\n",
    "sys1 = matlab.tf(num1,den) #比例要素K=1の場合の伝達関数表現\n",
    "sys2 = matlab.tf(num2,den) #比例要素K=0.1の場合の伝達関数表現\n",
    "sys3 =matlab. tf(num3,den) #比例要素K=10の場合の伝達関数表現\n",
    "\n",
    "#角周波数の範囲を指定\n",
    "w = np.logspace(-3, 4, 1000) #対数的に等間隔なベクトルの生成(10^{-3}から10^{4}で1000点)\n",
    "\n",
    "# 図11.2のBode線図のプロット\n",
    "[gain,phase,om] = matlab.bode(sys1, sys2, sys3, w) #Kの値に応じた伝達関数のゲインと位相の計算\n",
    "plt.xlim([0.01,100]) #横軸の範囲の指定\n",
    "plt.ylim([-40,40]) #縦軸の範囲の指定\n",
    "plt.show() #グラフの表示"
   ]
  },
  {
   "cell_type": "raw",
   "metadata": {},
   "source": [
    "上記の\"matlab.bode\"では環境によってはエラーが出る場合があるので，scipyの\"signal\"モジュールを使ってボード線図を描く．"
   ]
  },
  {
   "cell_type": "code",
   "execution_count": 3,
   "metadata": {},
   "outputs": [
    {
     "data": {
      "image/png": "[encoded data removed]",
      "text/plain": [
       "<matplotlib.figure.Figure at 0x10e5386a0>"
      ]
     },
     "metadata": {},
     "output_type": "display_data"
    }
   ],
   "source": [
    "#伝達関数表現を与える\n",
    "sys1 = signal.lti(num1, den) #比例要素K=1の場合の伝達関数表現（signal.ltiの場合）\n",
    "sys2 = signal.lti(num2, den) #比例要素K=0.1の場合の伝達関数表現（signal.ltiの場合）\n",
    "sys3 = signal.lti(num3, den) #比例要素K=10の場合の伝達関数表現（signal.ltiの場合）\n",
    "\n",
    "#角周波数の範囲を指定\n",
    "w = np.logspace(-2, 2, 1000) #対数的に等間隔なベクトルの生成(10^{-2}から10^{2}で1000点)\n",
    "\n",
    "#周波数応答の計算．wは角周波数，gainはゲイン,phaseは位相を表す．\n",
    "[w1, gain1, phase1] = signal.bode(sys1, w) #比例要素K=1の伝達関数のゲインと位相\n",
    "[w2, gain2, phase2] = signal.bode(sys2, w) #比例要素K=0.1の伝達関数のゲインと位相\n",
    "[w3, gain3, phase3] = signal.bode(sys3, w) #比例要素K=10の伝達関数のゲインと位相\n",
    "\n",
    "# ゲイン線図のプロット\n",
    "plt.subplot(2, 1, 1) #複数の図を並べるためのコマンド．2行1列の1行目という意味\n",
    "plt.semilogx(w1, gain1, w2, gain2, w3, gain3) #ゲイン線図をプロット\n",
    "plt.xlim([0.01,100]) #横軸（角周波数）の範囲の指定\n",
    "plt.ylim([-40,40]) #縦軸（デシベル値）の範囲の指定\n",
    "plt.grid(color='gray') #罫線を灰色で表示\n",
    "plt.ylabel(\"Gain[dB]\") #縦軸の表示\n",
    "#plt.xlabel(\"w[rad/s]\") #横軸のラベル表示\n",
    "\n",
    "# 位相線図のプロット\n",
    "plt.subplot(2, 1, 2) #複数の図を並べるためのコマンド．2行1列の2行目という意味\n",
    "plt.semilogx(w1, phase1, w2, phase2, w3, phase3) #位相線図をプロット\n",
    "plt.xlim([0.01,100]) #横軸（角周波数）の範囲の指定\n",
    "plt.grid(color='gray') #罫線を灰色で表示\n",
    "plt.xlabel(\"w[rad/s]\") #横軸のラベル表示\n",
    "plt.ylabel(\"Phase[deg]\") #縦軸の表示\n",
    "plt.show() #グラフの表示"
   ]
  }
 ],
 "metadata": {
  "kernelspec": {
   "display_name": "Python 3",
   "language": "python",
   "name": "python3"
  },
  "language_info": {
   "codemirror_mode": {
    "name": "ipython",
    "version": 3
   },
   "file_extension": ".py",
   "mimetype": "text/x-python",
   "name": "python",
   "nbconvert_exporter": "python",
   "pygments_lexer": "ipython3",
   "version": "3.6.4"
  }
 },
 "nbformat": 4,
 "nbformat_minor": 2
}
